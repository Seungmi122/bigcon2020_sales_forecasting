{
 "cells": [
  {
   "cell_type": "markdown",
   "metadata": {},
   "source": [
    "## Import Libraries"
   ]
  },
  {
   "cell_type": "code",
   "execution_count": 1,
   "metadata": {},
   "outputs": [],
   "source": [
    "import pandas as pd\n",
    "import numpy as np\n",
    "import datetime\n",
    "\n",
    "import requests\n",
    "import re\n",
    "from bs4 import BeautifulSoup"
   ]
  },
  {
   "cell_type": "markdown",
   "metadata": {},
   "source": [
    "## Define crawling function"
   ]
  },
  {
   "cell_type": "code",
   "execution_count": 3,
   "metadata": {},
   "outputs": [],
   "source": [
    "def crawl(stn, mm, x, y, prefix='https://www.weather.go.kr/weather/climate/past_cal.jsp?'):\n",
    "    website = requests.get(prefix+'stn='+str(stn)+'&yy=2019&mm='+str(mm)+'&'+str(x)+'&'+str(y)+'&'+'obs=1')\n",
    "    whole = website.content\n",
    "    one = BeautifulSoup(whole, 'html.parser')\n",
    "    part = one.find_all('td')\n",
    "\n",
    "    content = []\n",
    "\n",
    "    for child in part:\n",
    "        stats = child.get_text('|')\n",
    "        content.append(stats.split('|'))\n",
    "\n",
    "    content_real = []\n",
    "    for a in content:\n",
    "        if len(a) > 1:\n",
    "            content_real.append(a)\n",
    "\n",
    "    aver = []\n",
    "    high = []\n",
    "    low = []\n",
    "    rain = []\n",
    "\n",
    "    for child in content_real:\n",
    "        a = child[0].replace('℃',':')\n",
    "        a = a.split(':')\n",
    "        aver.append(a[1])\n",
    "    \n",
    "        b = child[1].replace('℃',':')\n",
    "        b = b.split(':')\n",
    "        high.append(b[1])\n",
    "        \n",
    "        c = child[2].replace('℃',':')\n",
    "        c = c.split(':')\n",
    "        low.append(c[1])\n",
    "        \n",
    "        if (child[4]=='일강수량: - '):\n",
    "            d = 0\n",
    "            rain.append(d)\n",
    "        else:\n",
    "            d = child[4].replace('mm',':')\n",
    "            d = d.split(':')\n",
    "            rain.append(d[1])\n",
    "\n",
    "    final = pd.DataFrame({'aver':aver, 'high':high, 'low':low, 'rain':rain})\n",
    "    \n",
    "    month = {}\n",
    "    month[str(mm)+'_'+str(stn)] = final\n",
    "    \n",
    "    return month"
   ]
  },
  {
   "cell_type": "markdown",
   "metadata": {},
   "source": [
    "## Crawl the data"
   ]
  },
  {
   "cell_type": "code",
   "execution_count": 4,
   "metadata": {},
   "outputs": [],
   "source": [
    "seoul_1 = crawl(stn=108, mm=1, x=15, y=4)['1_108']\n",
    "seoul_2 = crawl(stn=108, mm=2, x=15, y=4)['2_108']\n",
    "seoul_3 = crawl(stn=108, mm=3, x=15, y=4)['3_108']\n",
    "seoul_4 = crawl(stn=108, mm=4, x=15, y=4)['4_108']\n",
    "seoul_5 = crawl(stn=108, mm=5, x=15, y=4)['5_108']\n",
    "seoul_6 = crawl(stn=108, mm=6, x=15, y=4)['6_108']\n",
    "seoul_7 = crawl(stn=108, mm=7, x=15, y=4)['7_108']\n",
    "seoul_8 = crawl(stn=108, mm=8, x=15, y=4)['8_108']\n",
    "seoul_9 = crawl(stn=108, mm=9, x=15, y=4)['9_108']\n",
    "seoul_10 = crawl(stn=108, mm=10, x=15, y=4)['10_108']\n",
    "seoul_11 = crawl(stn=108, mm=11, x=15, y=4)['11_108']\n",
    "seoul_12 = crawl(stn=108, mm=12, x=15, y=4)['12_108']"
   ]
  },
  {
   "cell_type": "markdown",
   "metadata": {},
   "source": [
    "## Create date data (2019.01.01 ~ 2019.12.31)"
   ]
  },
  {
   "cell_type": "code",
   "execution_count": 5,
   "metadata": {},
   "outputs": [],
   "source": [
    "year_2019 = []\n",
    "start = datetime.date(2019,1,1)\n",
    "year_2019.append(start)\n",
    "for i in range(364):\n",
    "    start = start + datetime.timedelta(days=1)\n",
    "    year_2019.append(start)"
   ]
  },
  {
   "cell_type": "markdown",
   "metadata": {},
   "source": [
    "## Create columns ('temp_diff_s' & 'rain')"
   ]
  },
  {
   "cell_type": "code",
   "execution_count": 6,
   "metadata": {},
   "outputs": [],
   "source": [
    "seoul = pd.concat([seoul_1,seoul_2,seoul_3,seoul_4,seoul_5,seoul_6,seoul_7,seoul_8,seoul_9,seoul_10,seoul_11,seoul_12], axis=0, ignore_index=True)\n",
    "date = pd.DataFrame(year_2019)\n",
    "seoul.insert(0,'ymd',date)\n",
    "\n",
    "seoul[['aver','high','low','rain']] = seoul[['aver','high','low','rain']].astype(float)\n",
    "\n",
    "seoul['temp_diff_s'] = seoul.high - seoul.low\n",
    "seoul.loc[seoul.rain < 5, 'rain'] = 0\n",
    "seoul.loc[seoul.rain >= 5, 'rain'] = 1\n",
    "seoul.drop(['aver','high','low'], axis=1, inplace=True)"
   ]
  },
  {
   "cell_type": "markdown",
   "metadata": {},
   "source": [
    "## Export"
   ]
  },
  {
   "cell_type": "code",
   "execution_count": 7,
   "metadata": {},
   "outputs": [],
   "source": [
    "seoul.to_excel(\"../data/11/weather_diff.xlsx\")"
   ]
  },
  {
   "cell_type": "code",
   "execution_count": 101,
   "metadata": {},
   "outputs": [],
   "source": [
    "# seoul.to_csv('C:/Users/secre/Desktop/bigcon/champ/weather/weather_final.csv', index=False)"
   ]
  }
 ],
 "metadata": {
  "kernelspec": {
   "display_name": "Python 3",
   "language": "python",
   "name": "python3"
  },
  "language_info": {
   "codemirror_mode": {
    "name": "ipython",
    "version": 3
   },
   "file_extension": ".py",
   "mimetype": "text/x-python",
   "name": "python",
   "nbconvert_exporter": "python",
   "pygments_lexer": "ipython3",
   "version": "3.7.3"
  }
 },
 "nbformat": 4,
 "nbformat_minor": 4
}
