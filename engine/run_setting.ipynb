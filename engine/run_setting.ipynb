{
 "cells": [
  {
   "cell_type": "markdown",
   "metadata": {},
   "source": [
    "# practice run"
   ]
  },
  {
   "cell_type": "markdown",
   "metadata": {},
   "source": [
    "### load data"
   ]
  },
  {
   "cell_type": "code",
   "execution_count": 1,
   "metadata": {},
   "outputs": [],
   "source": [
    "import warnings\n",
    "warnings.filterwarnings(\"ignore\")\n",
    "import pandas as pd\n",
    "import numpy as np\n",
    "import math\n",
    "import random\n",
    "\n",
    "# data\n",
    "import datetime\n",
    "import itertools\n",
    "import json\n",
    "\n",
    "# sklearn\n",
    "from sklearn.ensemble import IsolationForest\n",
    "from sklearn.preprocessing import LabelEncoder, OneHotEncoder\n",
    "\n",
    "# custom class\n",
    "from features_yj import Features"
   ]
  },
  {
   "cell_type": "code",
   "execution_count": 3,
   "metadata": {},
   "outputs": [],
   "source": [
    "t = Features()\n",
    "df = t.run_all()\n",
    "\n",
    "#show id - 25 일단 중간중간 데이터 살펴볼 때 필요해서 넣음\n",
    "xcol = [5,6,7,8,16,17,18,21,22,23,25,28,30,32,34,35,36]\n",
    "xcol2 = list(range(38,65))\n",
    "xcol = xcol + xcol2\n",
    "\n",
    "# important! check feature names (make sure indexing is correct)\n",
    "df.columns[xcol].tolist()"
   ]
  },
  {
   "cell_type": "markdown",
   "metadata": {},
   "source": [
    "### NA imputation"
   ]
  },
  {
   "cell_type": "code",
   "execution_count": 24,
   "metadata": {},
   "outputs": [],
   "source": [
    "lag_col = ['lag_scode_count',\n",
    " 'lag_mcode_price',\n",
    " 'lag_mcode_count',\n",
    " 'lag_bigcat_price',\n",
    " 'lag_bigcat_count',\n",
    " 'lag_bigcat_price_day',\n",
    " 'lag_bigcat_count_day',\n",
    " 'lag_small_c_price',\n",
    " 'lag_small_c_count']\n",
    "\n",
    "for col in lag_col:\n",
    "    df[col] = df[col].fillna(0)"
   ]
  },
  {
   "cell_type": "markdown",
   "metadata": {},
   "source": [
    "### encode"
   ]
  },
  {
   "cell_type": "code",
   "execution_count": 84,
   "metadata": {},
   "outputs": [],
   "source": [
    "df2 = df.iloc[:,xcol]\n",
    "# change categorical variables to dummies\n",
    "# hours_inweek 일단 numerical하게 생각, men도 수정 전이라 일단 뺌\n",
    "cat_col = ['min_start','japp','parttime', 'primetime','exposed','상품군','weekdays', 'small_c','middle_c','big_c', 'pay']\n",
    "num = df2.drop(columns = cat_col)\n",
    "X1 = df2[cat_col]\n",
    "\n",
    "# Onehotencoder\n",
    "ohe = OneHotEncoder()\n",
    "ohe.fit(X1)\n",
    "onehotlabels = ohe.transform(X1).toarray()\n",
    "cat_labels = ohe.get_feature_names(['min_start','japp','parttime', 'primetime','exposed','상품군','weekdays', 'small_c','middle_c','big_c', 'pay'])\n",
    "cat = pd.DataFrame(onehotlabels, columns=cat_labels)\n",
    "\n",
    "df3 = num.join(cat)"
   ]
  },
  {
   "cell_type": "code",
   "execution_count": 130,
   "metadata": {},
   "outputs": [
    {
     "data": {
      "text/plain": [
       "(35379, 432)"
      ]
     },
     "execution_count": 130,
     "metadata": {},
     "output_type": "execute_result"
    }
   ],
   "source": [
    "df3.shape #(35379, 432)"
   ]
  },
  {
   "cell_type": "markdown",
   "metadata": {},
   "source": [
    "### divide into train/test"
   ]
  },
  {
   "cell_type": "code",
   "execution_count": 135,
   "metadata": {},
   "outputs": [],
   "source": [
    "# 1~8월 / 9~12월\n",
    "# 23813\n",
    "df3_train = df3.iloc[:23813,:]\n",
    "df3_test = df3.iloc[23813:,:]\n",
    "\n",
    "numeric_colnum = df3_train.columns.get_indexer(['판매단가','취급액','vratings']).tolist()\n",
    "feature_set = df3_train.iloc[:,numeric_colnum]\n",
    "\n",
    "# identify outliers in the training dataset\n",
    "iso = IsolationForest(n_estimators=50, max_samples=50, contamination=float(0.05),max_features=1.0)\n",
    "iso.fit(feature_set)\n",
    "pred = iso.predict(feature_set)\n",
    "feature_set['anomaly']=pred\n",
    "outliers=feature_set.loc[feature_set['anomaly']==-1]\n",
    "outlier_index=list(outliers.index)\n",
    "df3_train = df3_train.loc[~df3_train.index.isin(outlier_index)].reset_index()"
   ]
  },
  {
   "cell_type": "markdown",
   "metadata": {},
   "source": [
    "### remove outliers"
   ]
  },
  {
   "cell_type": "code",
   "execution_count": 136,
   "metadata": {},
   "outputs": [],
   "source": [
    "X_train = df3_train.drop(columns = '취급액')\n",
    "X_test = df3_test.drop(columns = '취급액')\n",
    "y_train = df3_train.iloc[:,1]\n",
    "y_test = df3_test.iloc[:,1]"
   ]
  },
  {
   "cell_type": "code",
   "execution_count": 140,
   "metadata": {},
   "outputs": [
    {
     "data": {
      "text/plain": [
       "(11566,)"
      ]
     },
     "execution_count": 140,
     "metadata": {},
     "output_type": "execute_result"
    }
   ],
   "source": [
    "y_test.shape"
   ]
  },
  {
   "cell_type": "code",
   "execution_count": null,
   "metadata": {},
   "outputs": [],
   "source": []
  }
 ],
 "metadata": {
  "kernelspec": {
   "display_name": "Python 3",
   "language": "python",
   "name": "python3"
  },
  "language_info": {
   "codemirror_mode": {
    "name": "ipython",
    "version": 3
   },
   "file_extension": ".py",
   "mimetype": "text/x-python",
   "name": "python",
   "nbconvert_exporter": "python",
   "pygments_lexer": "ipython3",
   "version": "3.7.8"
  }
 },
 "nbformat": 4,
 "nbformat_minor": 4
}
