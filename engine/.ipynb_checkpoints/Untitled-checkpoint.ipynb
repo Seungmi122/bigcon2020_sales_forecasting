{
 "cells": [
  {
   "cell_type": "code",
   "execution_count": null,
   "metadata": {},
   "outputs": [],
   "source": [
    "tmp = pd.read_pickle(\"../data/20/test_v2.pkl\")\n",
    "tmp['aired_ymd'] = tmp['show_id'].apply(lambda x: x.split()[0])\n",
    "tmp_fisrtw = tmp.loc[tmp.aired_ymd <= '2020-06-07']\n",
    "tmp_fisrtw.groupby(['aired_ymd']).show_id.nunique()\n",
    "ts_schedule = tmp_fisrtw.copy().groupby('방송일시').first()\n",
    "ts_schedule.reset_index(inplace=True)\n",
    "ts_schedule.sort_values(['방송일시','마더코드','상품코드'], ascending=[True, True, True], inplace=True)\n",
    "firstwk = ts_schedule[['방송일시','show_id']].groupby(['show_id']).\\\n",
    "                        first().sort_values(['방송일시'])['방송일시'].apply(lambda x: x.strftime(\"%Y-%m-%d %H\")).to_list()\n",
    "firstwd_items = ts_schedule.groupby(['show_id']).first()\\\n",
    "[['마더코드', '노출(분)','상품코드', '상품명', '상품군', '판매단가','original_c','small_c', 'small_c_code',\n",
    "       'middle_c', 'middle_c_code', 'big_c', 'big_c_code']].\\\n",
    "reset_index().drop(columns = ['show_id'])\n",
    "firstwd_items.to_excel(\"../data/20/tmp_hung_firstweek_items.xlsx\")\n",
    "t = pd.DataFrame({\"방송일시\":[pd.to_datetime(firstwk, format = \"%Y-%m-%d %H\").to_list()]})\n",
    "time_seq = pd.concat([t]*len(firstwd_items), ignore_index=True)\n",
    "full_firstwk = pd.concat([time_seq, firstwd_items], axis = 1).explode('방송일시')\n",
    "full_firstwk['노출(분)'] = 60\n",
    "full_firstwk = full_firstwk.astype({'노출(분)': 'float64', \"판매단가\":\"float64\", \"small_c_code\":\"int64\",\n",
    "          \"middle_c_code\":\"int64\", \"big_c_code\":\"int64\"})\n",
    "# full_firstwk.reset_index(inplace = True, drop = True)\n",
    "full_firstwk.to_pickle(\"../data/20/hung1_firstwk.pkl\")"
   ]
  }
 ],
 "metadata": {
  "kernelspec": {
   "display_name": "Python 3",
   "language": "python",
   "name": "python3"
  },
  "language_info": {
   "codemirror_mode": {
    "name": "ipython",
    "version": 3
   },
   "file_extension": ".py",
   "mimetype": "text/x-python",
   "name": "python",
   "nbconvert_exporter": "python",
   "pygments_lexer": "ipython3",
   "version": "3.7.3"
  }
 },
 "nbformat": 4,
 "nbformat_minor": 2
}
