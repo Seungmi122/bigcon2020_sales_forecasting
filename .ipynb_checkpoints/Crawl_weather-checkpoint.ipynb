{
 "cells": [
  {
   "cell_type": "code",
   "execution_count": 86,
   "metadata": {},
   "outputs": [],
   "source": [
    "import pandas as pd\n",
    "import numpy as np\n",
    "import requests\n",
    "import re"
   ]
  },
  {
   "cell_type": "code",
   "execution_count": 3,
   "metadata": {},
   "outputs": [
    {
     "name": "stdout",
     "output_type": "stream",
     "text": [
      "Collecting bs4\n",
      "  Downloading bs4-0.0.1.tar.gz (1.1 kB)\n",
      "Collecting beautifulsoup4\n",
      "  Using cached beautifulsoup4-4.9.1-py3-none-any.whl (115 kB)\n",
      "Collecting soupsieve>1.2\n",
      "  Downloading soupsieve-2.0.1-py3-none-any.whl (32 kB)\n",
      "Building wheels for collected packages: bs4\n",
      "  Building wheel for bs4 (setup.py): started\n",
      "  Building wheel for bs4 (setup.py): finished with status 'done'\n",
      "  Created wheel for bs4: filename=bs4-0.0.1-py3-none-any.whl size=1279 sha256=e2e428a6b3f96b8a77a1128ba5aeb5163da156a220413ff3dac875e9891d29a5\n",
      "  Stored in directory: c:\\users\\secre\\appdata\\local\\pip\\cache\\wheels\\0a\\9e\\ba\\20e5bbc1afef3a491f0b3bb74d508f99403aabe76eda2167ca\n",
      "Successfully built bs4\n",
      "Installing collected packages: soupsieve, beautifulsoup4, bs4\n",
      "Successfully installed beautifulsoup4-4.9.1 bs4-0.0.1 soupsieve-2.0.1\n",
      "Note: you may need to restart the kernel to use updated packages.\n"
     ]
    }
   ],
   "source": [
    "pip install bs4"
   ]
  },
  {
   "cell_type": "code",
   "execution_count": 4,
   "metadata": {},
   "outputs": [],
   "source": [
    "from bs4 import BeautifulSoup"
   ]
  },
  {
   "cell_type": "code",
   "execution_count": 113,
   "metadata": {},
   "outputs": [],
   "source": [
    "def crawl(stn, mm, x, y, prefix='https://www.weather.go.kr/weather/climate/past_cal.jsp?'):\n",
    "    website = requests.get(prefix+'stn='+str(stn)+'&yy=2019&mm='+str(mm)+'&'+str(x)+'&'+str(y)+'&'+'obs=1')\n",
    "    whole = website.content\n",
    "    one = BeautifulSoup(whole, 'html.parser')\n",
    "    part = one.find_all('td')\n",
    "\n",
    "    content = []\n",
    "\n",
    "    for child in part:\n",
    "        stats = child.get_text('|')\n",
    "        content.append(stats.split('|'))\n",
    "\n",
    "    content_real = []\n",
    "    for a in content:\n",
    "        if len(a) > 1:\n",
    "            content_real.append(a)\n",
    "\n",
    "    aver = []\n",
    "    high = []\n",
    "    low = []\n",
    "    rain = []\n",
    "\n",
    "    for child in content_real:\n",
    "        a = child[0].replace('℃',':')\n",
    "        a = a.split(':')\n",
    "        aver.append(a[1])\n",
    "    \n",
    "        b = child[1].replace('℃',':')\n",
    "        b = b.split(':')\n",
    "        high.append(b[1])\n",
    "        \n",
    "        c = child[2].replace('℃',':')\n",
    "        c = c.split(':')\n",
    "        low.append(c[1])\n",
    "        \n",
    "        if child[4]==' - ':\n",
    "            pass\n",
    "        else:\n",
    "            d = child[4].replace('mm',':')\n",
    "            d = d.split(':')\n",
    "            rain.append(d[1])\n",
    "\n",
    "    final = pd.DataFrame({'aver':aver, 'high':high, 'low':low, 'rain':rain})\n",
    "    \n",
    "    month = {}\n",
    "    month[str(mm)+'_'+str(stn)] = final\n",
    "    \n",
    "    return month"
   ]
  },
  {
   "cell_type": "code",
   "execution_count": null,
   "metadata": {},
   "outputs": [],
   "source": []
  }
 ],
 "metadata": {
  "kernelspec": {
   "display_name": "Python 3",
   "language": "python",
   "name": "python3"
  },
  "language_info": {
   "codemirror_mode": {
    "name": "ipython",
    "version": 3
   },
   "file_extension": ".py",
   "mimetype": "text/x-python",
   "name": "python",
   "nbconvert_exporter": "python",
   "pygments_lexer": "ipython3",
   "version": "3.7.3"
  }
 },
 "nbformat": 4,
 "nbformat_minor": 4
}
