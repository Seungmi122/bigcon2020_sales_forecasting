{
 "cells": [
  {
   "cell_type": "code",
   "execution_count": 86,
   "metadata": {},
   "outputs": [],
   "source": [
    "import pandas as pd\n",
    "import numpy as np\n",
    "import requests\n",
    "import re"
   ]
  },
  {
   "cell_type": "code",
   "execution_count": 3,
   "metadata": {},
   "outputs": [
    {
     "name": "stdout",
     "output_type": "stream",
     "text": [
      "Collecting bs4\n",
      "  Downloading bs4-0.0.1.tar.gz (1.1 kB)\n",
      "Collecting beautifulsoup4\n",
      "  Using cached beautifulsoup4-4.9.1-py3-none-any.whl (115 kB)\n",
      "Collecting soupsieve>1.2\n",
      "  Downloading soupsieve-2.0.1-py3-none-any.whl (32 kB)\n",
      "Building wheels for collected packages: bs4\n",
      "  Building wheel for bs4 (setup.py): started\n",
      "  Building wheel for bs4 (setup.py): finished with status 'done'\n",
      "  Created wheel for bs4: filename=bs4-0.0.1-py3-none-any.whl size=1279 sha256=e2e428a6b3f96b8a77a1128ba5aeb5163da156a220413ff3dac875e9891d29a5\n",
      "  Stored in directory: c:\\users\\secre\\appdata\\local\\pip\\cache\\wheels\\0a\\9e\\ba\\20e5bbc1afef3a491f0b3bb74d508f99403aabe76eda2167ca\n",
      "Successfully built bs4\n",
      "Installing collected packages: soupsieve, beautifulsoup4, bs4\n",
      "Successfully installed beautifulsoup4-4.9.1 bs4-0.0.1 soupsieve-2.0.1\n",
      "Note: you may need to restart the kernel to use updated packages.\n"
     ]
    }
   ],
   "source": [
    "pip install bs4"
   ]
  },
  {
   "cell_type": "code",
   "execution_count": 4,
   "metadata": {},
   "outputs": [],
   "source": [
    "from bs4 import BeautifulSoup"
   ]
  },
  {
   "cell_type": "code",
   "execution_count": 113,
   "metadata": {},
   "outputs": [],
   "source": [
    "def crawl(stn, mm, prefix='https://www.weather.go.kr/weather/climate/past_cal.jsp?'):\n",
    "    website = requests.get(prefix+'stn='+str(stn)+'&yy=2019&mm='+str(mm)+'&x=18&y=4&obs=1')\n",
    "    whole = website.content\n",
    "    one = BeautifulSoup(whole, 'html.parser')\n",
    "    part = one.find_all('td')\n",
    "\n",
    "    content = []\n",
    "\n",
    "    for child in part:\n",
    "        stats = child.get_text('|')\n",
    "        content.append(stats.split('|'))\n",
    "\n",
    "    content_real = []\n",
    "    for a in content:\n",
    "        if len(a) > 1:\n",
    "            content_real.append(a)\n",
    "\n",
    "    aver = []\n",
    "    high = []\n",
    "    low = []\n",
    "    rain = []\n",
    "\n",
    "    for child in content_real:\n",
    "        a = child[0].replace('℃',':')\n",
    "        a = a.split(':')\n",
    "        aver.append(a[1])\n",
    "    \n",
    "        b = child[1].replace('℃',':')\n",
    "        b = b.split(':')\n",
    "        high.append(b[1])\n",
    "        \n",
    "        c = child[2].replace('℃',':')\n",
    "        c = c.split(':')\n",
    "        low.append(c[1])\n",
    "        \n",
    "        if child[4]=='-':\n",
    "            pass\n",
    "        else:\n",
    "            d = child[4].replace('mm',':')\n",
    "            d = d.split(':')\n",
    "            rain.append(d[1])\n",
    "\n",
    "    final = pd.DataFrame({'aver':aver, 'high':high, 'low':low, 'rain':rain})\n",
    "    \n",
    "    month = {}\n",
    "    month[str(mm)+'_'+str(stn)] = final\n",
    "    \n",
    "    return month"
   ]
  },
  {
   "cell_type": "code",
   "execution_count": 115,
   "metadata": {},
   "outputs": [
    {
     "data": {
      "text/plain": [
       "{'1_99':     aver  high    low rain\n",
       " 0   -8.1  -0.2  -15.5   - \n",
       " 1   -8.4   0.4  -16.1   - \n",
       " 2   -7.7   2.3  -16.0   - \n",
       " 3   -4.9   3.7  -13.1   - \n",
       " 4   -5.6   2.1  -11.2   - \n",
       " 5   -6.2   2.1  -12.0   - \n",
       " 6   -5.6   2.9  -13.9   - \n",
       " 7   -6.2   0.4  -12.3   - \n",
       " 8   -8.2  -1.7  -15.1   - \n",
       " 9   -2.6   4.0   -9.3   - \n",
       " 10  -0.8   5.8   -6.2   - \n",
       " 11  -0.1   7.9   -6.9   - \n",
       " 12  -2.6   7.2   -9.5   - \n",
       " 13  -2.5   4.2   -9.0   - \n",
       " 14  -4.3   1.9   -9.8   - \n",
       " 15  -7.2  -1.4  -15.5   - \n",
       " 16  -2.8   4.3  -10.6   - \n",
       " 17  -4.0   5.9  -12.6   - \n",
       " 18  -0.5   6.1   -5.6   - \n",
       " 19  -2.9   1.1   -8.8   - \n",
       " 20  -4.2   5.7  -12.9   - \n",
       " 21  -2.4   8.0  -10.8   - \n",
       " 22  -1.9   6.9   -9.0   - \n",
       " 23  -3.8   5.5  -12.5   - \n",
       " 24  -4.9   2.0  -11.6   - \n",
       " 25  -4.7   3.1  -11.9   - \n",
       " 26  -2.9   5.3  -14.3   - \n",
       " 27  -0.4   3.7   -7.8  0.2\n",
       " 28  -3.8   5.9  -12.8   - \n",
       " 29  -1.0   6.5   -8.9   - \n",
       " 30  -3.4   0.4  -10.7   - }"
      ]
     },
     "execution_count": 115,
     "metadata": {},
     "output_type": "execute_result"
    }
   ],
   "source": [
    "crawl(stn=99, mm=1)"
   ]
  },
  {
   "cell_type": "code",
   "execution_count": null,
   "metadata": {},
   "outputs": [],
   "source": []
  }
 ],
 "metadata": {
  "kernelspec": {
   "display_name": "Python 3",
   "language": "python",
   "name": "python3"
  },
  "language_info": {
   "codemirror_mode": {
    "name": "ipython",
    "version": 3
   },
   "file_extension": ".py",
   "mimetype": "text/x-python",
   "name": "python",
   "nbconvert_exporter": "python",
   "pygments_lexer": "ipython3",
   "version": "3.7.7"
  }
 },
 "nbformat": 4,
 "nbformat_minor": 4
}
